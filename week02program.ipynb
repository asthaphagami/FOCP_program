{
 "cells": [
  {
   "cell_type": "raw",
   "id": "7be979bd-f6b8-4418-9cb9-7d4015b274b3",
   "metadata": {},
   "source": [
    "Last week you wrote a program that printed out a cheery greeting including your\n",
    "name. Take a copy of it, and modify it so that the user enters their name at the\n",
    "keyboard, and then receives a greeting. For example:\n",
    "Hello, what is your name? Mr Apricot\n",
    "Hello, Mr Apricot. Good to meet you!"
   ]
  },
  {
   "cell_type": "code",
   "execution_count": 19,
   "id": "1983e3ce-6ea4-48ac-ad85-152cf22eea61",
   "metadata": {},
   "outputs": [
    {
     "name": "stdin",
     "output_type": "stream",
     "text": [
      "Hello, what is your name? Smriti Dhimal\n"
     ]
    },
    {
     "name": "stdout",
     "output_type": "stream",
     "text": [
      "hello, Smriti Dhimal. Good to meet you!\n"
     ]
    }
   ],
   "source": [
    "print(f\"hello, {input('Hello, what is your name?')}. Good to meet you!\")"
   ]
  },
  {
   "cell_type": "raw",
   "id": "1ce2c131-aa60-42c9-8c22-eede4864077b",
   "metadata": {},
   "source": [
    "Write a program that prompts a user to enter a temperature in Celsius, and then\n",
    "displays the corresponding temperature in Fahrenheit, like so:\n",
    "Enter a temperature in Celsius: 32.5\n",
    "32.5C is equivalent to 90.5F."
   ]
  },
  {
   "cell_type": "code",
   "execution_count": 26,
   "id": "57a3bf6f-f886-4329-9756-1e0033eb033b",
   "metadata": {},
   "outputs": [
    {
     "name": "stdin",
     "output_type": "stream",
     "text": [
      "enter a temperature celsius 32.5\n"
     ]
    },
    {
     "name": "stdout",
     "output_type": "stream",
     "text": [
      "32.5c is equivalent to 90.5f.\n"
     ]
    }
   ],
   "source": [
    "C=float(input(\"enter a temperature celsius\"))\n",
    "print(f\"{C}c is equivalent to {(C*9/5)+32}f.\")"
   ]
  },
  {
   "cell_type": "raw",
   "id": "12f6ec4b-ef9d-4a7d-98a8-77dccc04e01c",
   "metadata": {},
   "source": [
    "The Head of Computing at the University of Poppleton is tasked with dividing a\n",
    "group of students into lab groups. A lab group is usually 24 students, but this is\n",
    "sometimes varied to create groups of similar size. Write a program that prompts for\n",
    "the number of students and group size, and then displays how many groups will be\n",
    "needed and how many will be left over in a smaller group\n",
    "How many students? 113\n",
    "Required group size? 22\n",
    "There will be 5 groups with 3 students left over.\n",
    "For bonus credit, see if you can fix the grammar in the output. So if there were 101\n",
    "students in groups of 20 the output would be:\n",
    "There will be 5 groups with 1 student left over."
   ]
  },
  {
   "cell_type": "code",
   "execution_count": 21,
   "id": "e2d927d6-c8ac-4960-9611-5c4711256d18",
   "metadata": {},
   "outputs": [
    {
     "name": "stdin",
     "output_type": "stream",
     "text": [
      "How many students? 101\n",
      "Require group size? 20\n"
     ]
    },
    {
     "name": "stdout",
     "output_type": "stream",
     "text": [
      "There will be 5 groups with 1 students left over.\n"
     ]
    }
   ],
   "source": [
    "num_of_stud=int(input(\"How many students?\"))\n",
    "group_size=int(input(\"Require group size?\"))\n",
    "num_groups=num_of_stud // group_size\n",
    "leftover_stud=num_of_stud%group_size\n",
    "print(f\"There will be {num_groups} group{'s'if num_groups!=1 else''} with {leftover_stud} student{'s'if num_of_stud!=1 else''} left over.\")"
   ]
  },
  {
   "cell_type": "raw",
   "id": "37ac1d8e-98b7-4bbb-9eee-3b2432e0f746",
   "metadata": {},
   "source": [
    "A kindly teacher wishes to distribute a tub of sweets between her pupils. She will\n",
    "first count the sweets and then divide them according to how many pupils attend\n",
    "that day. Write a program that will tell the teacher how many sweets to give to each\n",
    "pupil, and how many she will have left over."
   ]
  },
  {
   "cell_type": "code",
   "execution_count": 22,
   "id": "05e41c4d-1dbd-4490-af9f-d9139ccff529",
   "metadata": {},
   "outputs": [
    {
     "name": "stdin",
     "output_type": "stream",
     "text": [
      "How many sweets? 100\n",
      "how many pupils attended? 80\n"
     ]
    },
    {
     "name": "stdout",
     "output_type": "stream",
     "text": [
      "Each pupil will get 1 sweet.\n",
      "there will be 20 sweets left over.\n"
     ]
    }
   ],
   "source": [
    "sweets=int(input(\"How many sweets?\"))\n",
    "pupils=int(input(\"how many pupils attended?\"))\n",
    "distribute=sweets // pupils\n",
    "leftover=sweets % pupils\n",
    "print(f\"Each pupil will get {distribute} sweet{'s' if distribute!= 1 else ''}.\")\n",
    "print(f\"there will be {leftover} sweet{'s' if leftover!= 1 else ''} left over.\")"
   ]
  },
  {
   "cell_type": "code",
   "execution_count": null,
   "id": "e7fa6a7e-65a0-4e80-997d-664cac083486",
   "metadata": {},
   "outputs": [],
   "source": []
  }
 ],
 "metadata": {
  "kernelspec": {
   "display_name": "Python 3 (ipykernel)",
   "language": "python",
   "name": "python3"
  },
  "language_info": {
   "codemirror_mode": {
    "name": "ipython",
    "version": 3
   },
   "file_extension": ".py",
   "mimetype": "text/x-python",
   "name": "python",
   "nbconvert_exporter": "python",
   "pygments_lexer": "ipython3",
   "version": "3.10.9"
  }
 },
 "nbformat": 4,
 "nbformat_minor": 5
}
