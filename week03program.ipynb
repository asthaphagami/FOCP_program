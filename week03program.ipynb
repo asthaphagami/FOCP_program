{
 "cells": [
  {
   "cell_type": "raw",
   "id": "3ce19a52-af9b-46af-87b3-625528ae80cc",
   "metadata": {},
   "source": [
    "Modify your greeting program so that if the user does not enter a name (i.e. they\n",
    "just press enter), the program responds \"Hello, Stranger!\". Otherwise it should print\n",
    "a greeting with their name as before.\n"
   ]
  },
  {
   "cell_type": "code",
   "execution_count": 5,
   "id": "079529f2-13ab-4c5e-8455-2bf5bca12af3",
   "metadata": {},
   "outputs": [
    {
     "name": "stdin",
     "output_type": "stream",
     "text": [
      "Enter a name: Smriti Dhimal\n"
     ]
    },
    {
     "name": "stdout",
     "output_type": "stream",
     "text": [
      "Hello, Smriti Dhimal nice to meet you.\n"
     ]
    }
   ],
   "source": [
    "name=input('Enter a name:')\n",
    "if name:\n",
    "    print(f\"Hello, {name} nice to meet you.\")\n",
    "else:\n",
    "    print(\"Hello, stranger!\")"
   ]
  },
  {
   "cell_type": "raw",
   "id": "953317c7-336b-4d93-8ec0-692cb8930f07",
   "metadata": {},
   "source": [
    "Write a program that simulates the way in which a user might choose a password.\n",
    "The program should prompt for a new password, and then prompt again. If the two\n",
    "passwords entered are the same the program should say \"Password Set\" or\n",
    "similar, otherwise it should report an error."
   ]
  },
  {
   "cell_type": "code",
   "execution_count": 6,
   "id": "2eb5146a-04b1-445e-aa2b-eb35d7634d68",
   "metadata": {},
   "outputs": [
    {
     "name": "stdin",
     "output_type": "stream",
     "text": [
      "Enter your new password: 1234\n",
      "Re-enter your new password: 1234\n"
     ]
    },
    {
     "name": "stdout",
     "output_type": "stream",
     "text": [
      "Password set\n"
     ]
    }
   ],
   "source": [
    "password1=input(\"Enter your new password:\")\n",
    "password2=input(\"Re-enter your new password:\")\n",
    "if password1==password2:\n",
    "    print(\"Password set\")\n",
    "else:\n",
    "    print(\"ERROR: password does not matched\")"
   ]
  },
  {
   "cell_type": "raw",
   "id": "dc82d2cb-79f7-4faf-bcc2-521f16bbd3d4",
   "metadata": {},
   "source": [
    "Modify your previous program so that the password must be between 8 and 12\n",
    "characters (inclusive) long."
   ]
  },
  {
   "cell_type": "code",
   "execution_count": 8,
   "id": "80aa081b-8e80-4d67-b6a7-368b5223449d",
   "metadata": {},
   "outputs": [
    {
     "name": "stdin",
     "output_type": "stream",
     "text": [
      "Enter your new password(8 to 12 characters): asasasas\n",
      "Re-enter your new password: asasasas\n"
     ]
    },
    {
     "name": "stdout",
     "output_type": "stream",
     "text": [
      "Password set\n"
     ]
    }
   ],
   "source": [
    "password1=input(\"Enter your new password(8 to 12 characters):\")\n",
    "password2=input(\"Re-enter your new password:\")\n",
    "if password1==password2 and 8 <= len(password1) <=12:\n",
    "    print(\"Password set\")\n",
    "else:\n",
    "    print(\"ERROR: password does not matched\")"
   ]
  },
  {
   "cell_type": "raw",
   "id": "2c3be360-1486-4703-9d1c-d42638b138a1",
   "metadata": {},
   "source": [
    "Modify your program again so that the chosen password cannot be one of a list of\n",
    "common passwords, defined thus:\n",
    "BAD_PASSWORDS = ['password', 'letmein', 'sesame', 'hello', 'justinbieber']"
   ]
  },
  {
   "cell_type": "code",
   "execution_count": 2,
   "id": "1e6632eb-b3cc-49d2-803b-81314aa0f0b8",
   "metadata": {},
   "outputs": [
    {
     "name": "stdin",
     "output_type": "stream",
     "text": [
      "Enter your new password(8 to 12 characters): password\n",
      "Re-enter your new password: password\n"
     ]
    },
    {
     "name": "stdout",
     "output_type": "stream",
     "text": [
      "ERROR\n"
     ]
    }
   ],
   "source": [
    "bad_passwords=['password','letmein','sesame','hello','justinbieber']\n",
    "password1=input(\"Enter your new password(8 to 12 characters):\")\n",
    "password2=input(\"Re-enter your new password:\")\n",
    "if password1==password2 and 8 <= len(password1) <=12 and password1 not in bad_passwords:\n",
    "    print(\"Password set\")\n",
    "else:\n",
    "    print(\"ERROR\")"
   ]
  },
  {
   "cell_type": "raw",
   "id": "211a6830-ec2f-40e8-9875-b2513e497bca",
   "metadata": {},
   "source": [
    "Modify your program a final time so that it executes until the user successfully\n",
    "chooses a password. That is, if the password chosen fails any of the checks, the\n",
    "program should return to asking for the password the first time."
   ]
  },
  {
   "cell_type": "code",
   "execution_count": 4,
   "id": "969ac3a6-4f8d-4be8-bf39-96c06d9fa014",
   "metadata": {},
   "outputs": [
    {
     "name": "stdin",
     "output_type": "stream",
     "text": [
      "Enter your new password(8 to 12 characters): letmein\n",
      "Re-enter your new password: letmein\n"
     ]
    },
    {
     "name": "stdout",
     "output_type": "stream",
     "text": [
      "ERROR\n"
     ]
    },
    {
     "name": "stdin",
     "output_type": "stream",
     "text": [
      "Enter your new password(8 to 12 characters): hell123\n",
      "Re-enter your new password: hell123\n"
     ]
    },
    {
     "name": "stdout",
     "output_type": "stream",
     "text": [
      "ERROR\n"
     ]
    },
    {
     "name": "stdin",
     "output_type": "stream",
     "text": [
      "Enter your new password(8 to 12 characters): asasasa12\n",
      "Re-enter your new password: asasasa12\n"
     ]
    },
    {
     "name": "stdout",
     "output_type": "stream",
     "text": [
      "Password set\n"
     ]
    }
   ],
   "source": [
    "bad_passwords=['password','letmein','sesame','hello','justinbieber']\n",
    "while True:\n",
    "    password1=input(\"Enter your new password(8 to 12 characters):\")\n",
    "    password2=input(\"Re-enter your new password:\")\n",
    "    if password1==password2 and 8 <= len(password1) <=12 and password1 not in bad_passwords:\n",
    "        print(\"Password set\")\n",
    "        break\n",
    "    else:\n",
    "        print(\"ERROR\")"
   ]
  },
  {
   "cell_type": "raw",
   "id": "75c934e1-3515-4e0c-9df6-14372d929b77",
   "metadata": {},
   "source": [
    "Write a program that displays the \"Seven Times Table\". That is, the result of\n",
    "multiplying 7 by every number from 0 to 12 inclusive. The output might start:\n",
    "0 x 7 = 0\n",
    "1 x 7 = 7\n",
    "2 x 7 = 14\n",
    "and so on."
   ]
  },
  {
   "cell_type": "code",
   "execution_count": 6,
   "id": "3a6278db-d573-43bc-8cf7-7d1ae1af101a",
   "metadata": {},
   "outputs": [
    {
     "name": "stdout",
     "output_type": "stream",
     "text": [
      "0 * 7 = 0\n",
      "1 * 7 = 7\n",
      "2 * 7 = 14\n",
      "3 * 7 = 21\n",
      "4 * 7 = 28\n",
      "5 * 7 = 35\n",
      "6 * 7 = 42\n",
      "7 * 7 = 49\n",
      "8 * 7 = 56\n",
      "9 * 7 = 63\n",
      "10 * 7 = 70\n",
      "11 * 7 = 77\n",
      "12 * 7 = 84\n"
     ]
    }
   ],
   "source": [
    "for i in range(0,13):\n",
    "    print(f\"{i} * {7} = {i*7}\")"
   ]
  },
  {
   "cell_type": "raw",
   "id": "71d38cf7-d61a-48d7-9bec-d8f5ee0e5840",
   "metadata": {},
   "source": [
    "Modify your \"Times Table\" program so that the user enters the number of the table\n",
    "they require. This number should be between 0 and 12 inclusive"
   ]
  },
  {
   "cell_type": "code",
   "execution_count": 12,
   "id": "f97d4ad7-153b-409d-b6a4-088231eed5c0",
   "metadata": {},
   "outputs": [
    {
     "name": "stdin",
     "output_type": "stream",
     "text": [
      "Enter a number: 4\n"
     ]
    },
    {
     "name": "stdout",
     "output_type": "stream",
     "text": [
      "0 * 4 = 0\n",
      "1 * 4 = 4\n",
      "2 * 4 = 8\n",
      "3 * 4 = 12\n",
      "4 * 4 = 16\n",
      "5 * 4 = 20\n",
      "6 * 4 = 24\n",
      "7 * 4 = 28\n",
      "8 * 4 = 32\n",
      "9 * 4 = 36\n",
      "10 * 4 = 40\n",
      "11 * 4 = 44\n",
      "12 * 4 = 48\n"
     ]
    }
   ],
   "source": [
    "Times_Table=int(input(\"Enter a number:\"))\n",
    "for i in range(13):\n",
    "    print(f\"{i} * {num} = {i * num}\")"
   ]
  },
  {
   "cell_type": "raw",
   "id": "febaa94c-3a66-4599-b13d-f6c6efa80239",
   "metadata": {},
   "source": [
    "Modify the \"Times Table\" again so that the user still enters the number of the table,\n",
    "but if this number is negative the table is printed backwards. So entering \"-7\"\n",
    "would produce the Seven Times Table starting at \"12 times\" down to \"0 times\"."
   ]
  },
  {
   "cell_type": "code",
   "execution_count": 16,
   "id": "e106a095-4c2d-4f3a-9dc8-a7875cc524b2",
   "metadata": {},
   "outputs": [
    {
     "name": "stdin",
     "output_type": "stream",
     "text": [
      "enter a number: -7\n"
     ]
    },
    {
     "name": "stdout",
     "output_type": "stream",
     "text": [
      "12 * -7 = -84\n",
      "11 * -7 = -77\n",
      "10 * -7 = -70\n",
      "9 * -7 = -63\n",
      "8 * -7 = -56\n",
      "7 * -7 = -49\n",
      "6 * -7 = -42\n",
      "5 * -7 = -35\n",
      "4 * -7 = -28\n",
      "3 * -7 = -21\n",
      "2 * -7 = -14\n",
      "1 * -7 = -7\n",
      "0 * -7 = 0\n"
     ]
    }
   ],
   "source": [
    "num=int(input('enter a number:'))\n",
    "for i in reversed(range(13)):\n",
    "    print(f\"{i} * {num} = {i*num}\")"
   ]
  },
  {
   "cell_type": "code",
   "execution_count": null,
   "id": "3c08a65b-29e1-4051-9984-9a58f41f7fba",
   "metadata": {},
   "outputs": [],
   "source": []
  }
 ],
 "metadata": {
  "kernelspec": {
   "display_name": "Python 3 (ipykernel)",
   "language": "python",
   "name": "python3"
  },
  "language_info": {
   "codemirror_mode": {
    "name": "ipython",
    "version": 3
   },
   "file_extension": ".py",
   "mimetype": "text/x-python",
   "name": "python",
   "nbconvert_exporter": "python",
   "pygments_lexer": "ipython3",
   "version": "3.10.9"
  }
 },
 "nbformat": 4,
 "nbformat_minor": 5
}
